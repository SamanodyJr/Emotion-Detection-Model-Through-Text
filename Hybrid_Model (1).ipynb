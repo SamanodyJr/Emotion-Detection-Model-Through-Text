{
  "cells": [
    {
      "cell_type": "code",
      "execution_count": 3,
      "metadata": {
        "colab": {
          "background_save": true,
          "base_uri": "https://localhost:8080/"
        },
        "id": "bUk7zo7OABqu",
        "outputId": "9001a424-47ac-4a57-80a7-a9adf163a373"
      },
      "outputs": [],
      "source": [
        "import ktrain\n",
        "from ktrain import text as ktext\n",
        "from datasets import load_dataset\n",
        "import numpy as np\n",
        "import tensorflow as tf\n",
        "from sklearn.model_selection import train_test_split\n"
      ]
    },
    {
      "cell_type": "code",
      "execution_count": 4,
      "metadata": {
        "id": "9y02hKd9ADYR"
      },
      "outputs": [],
      "source": [
        "# Load dataset from Hugging Face's datasets\n",
        "dataset = load_dataset(\"dair-ai/emotion\")\n",
        "\n",
        "train = dataset['train']\n",
        "val = dataset['validation']\n",
        "test = dataset['test']\n",
        "\n",
        "class_names = ['sadness', 'joy', 'love', 'anger', 'fear' , 'surprise']\n",
        "def get_tweets(data):\n",
        "    tweets = [x['text'] for x in data]\n",
        "    labels = [x['label'] for x in data]\n",
        "    return tweets, labels\n",
        "tweets_train, labels_train = get_tweets(train)\n",
        "tweets_val, labels_val = get_tweets(val)\n"
      ]
    },
    {
      "cell_type": "code",
      "execution_count": 5,
      "metadata": {
        "colab": {
          "background_save": true
        },
        "id": "91dOSAqEAEsp"
      },
      "outputs": [
        {
          "name": "stdout",
          "output_type": "stream",
          "text": [
            "preprocessing train...\n",
            "language: en\n"
          ]
        },
        {
          "data": {
            "text/html": [
              "\n",
              "<style>\n",
              "    /* Turns off some styling */\n",
              "    progress {\n",
              "        /* gets rid of default border in Firefox and Opera. */\n",
              "        border: none;\n",
              "        /* Needs to be in here for Safari polyfill so background images work as expected. */\n",
              "        background-size: auto;\n",
              "    }\n",
              "    progress:not([value]), progress:not([value])::-webkit-progress-bar {\n",
              "        background: repeating-linear-gradient(45deg, #7e7e7e, #7e7e7e 10px, #5c5c5c 10px, #5c5c5c 20px);\n",
              "    }\n",
              "    .progress-bar-interrupted, .progress-bar-interrupted::-webkit-progress-bar {\n",
              "        background: #F44336;\n",
              "    }\n",
              "</style>\n"
            ],
            "text/plain": [
              "<IPython.core.display.HTML object>"
            ]
          },
          "metadata": {},
          "output_type": "display_data"
        },
        {
          "data": {
            "text/html": [
              "done."
            ],
            "text/plain": [
              "<IPython.core.display.HTML object>"
            ]
          },
          "metadata": {},
          "output_type": "display_data"
        },
        {
          "name": "stdout",
          "output_type": "stream",
          "text": [
            "Is Multi-Label? False\n",
            "preprocessing test...\n",
            "language: en\n"
          ]
        },
        {
          "data": {
            "text/html": [
              "\n",
              "<style>\n",
              "    /* Turns off some styling */\n",
              "    progress {\n",
              "        /* gets rid of default border in Firefox and Opera. */\n",
              "        border: none;\n",
              "        /* Needs to be in here for Safari polyfill so background images work as expected. */\n",
              "        background-size: auto;\n",
              "    }\n",
              "    progress:not([value]), progress:not([value])::-webkit-progress-bar {\n",
              "        background: repeating-linear-gradient(45deg, #7e7e7e, #7e7e7e 10px, #5c5c5c 10px, #5c5c5c 20px);\n",
              "    }\n",
              "    .progress-bar-interrupted, .progress-bar-interrupted::-webkit-progress-bar {\n",
              "        background: #F44336;\n",
              "    }\n",
              "</style>\n"
            ],
            "text/plain": [
              "<IPython.core.display.HTML object>"
            ]
          },
          "metadata": {},
          "output_type": "display_data"
        },
        {
          "data": {
            "text/html": [
              "done."
            ],
            "text/plain": [
              "<IPython.core.display.HTML object>"
            ]
          },
          "metadata": {},
          "output_type": "display_data"
        },
        {
          "name": "stdout",
          "output_type": "stream",
          "text": [
            "task: text classification\n",
            "Is Multi-Label? False\n",
            "maxlen is 256\n"
          ]
        },
        {
          "name": "stderr",
          "output_type": "stream",
          "text": [
            "/Users/samanodyjr/Library/Python/3.8/lib/python/site-packages/keras/src/initializers/initializers.py:120: UserWarning: The initializer GlorotNormal is unseeded and being called multiple times, which will return identical values each time (even if the initializer is unseeded). Please update your code to provide a seed to the initializer, or avoid using the same initializer instance more than once.\n",
            "  warnings.warn(\n"
          ]
        },
        {
          "name": "stdout",
          "output_type": "stream",
          "text": [
            "done.\n",
            "Model: \"model_1\"\n",
            "__________________________________________________________________________________________________\n",
            " Layer (type)                Output Shape                 Param #   Connected to                  \n",
            "==================================================================================================\n",
            " Input-Token (InputLayer)    [(None, 256)]                0         []                            \n",
            "                                                                                                  \n",
            " Input-Segment (InputLayer)  [(None, 256)]                0         []                            \n",
            "                                                                                                  \n",
            " Embedding-Token (TokenEmbe  [(None, 256, 768),           2344089   ['Input-Token[0][0]']         \n",
            " dding)                       (30522, 768)]               6                                       \n",
            "                                                                                                  \n",
            " Embedding-Segment (Embeddi  (None, 256, 768)             1536      ['Input-Segment[0][0]']       \n",
            " ng)                                                                                              \n",
            "                                                                                                  \n",
            " Embedding-Token-Segment (A  (None, 256, 768)             0         ['Embedding-Token[0][0]',     \n",
            " dd)                                                                 'Embedding-Segment[0][0]']   \n",
            "                                                                                                  \n",
            " Embedding-Position (Positi  (None, 256, 768)             196608    ['Embedding-Token-Segment[0][0\n",
            " onEmbedding)                                                       ]']                           \n",
            "                                                                                                  \n",
            " Embedding-Dropout (Dropout  (None, 256, 768)             0         ['Embedding-Position[0][0]']  \n",
            " )                                                                                                \n",
            "                                                                                                  \n",
            " Embedding-Norm (LayerNorma  (None, 256, 768)             1536      ['Embedding-Dropout[0][0]']   \n",
            " lization)                                                                                        \n",
            "                                                                                                  \n",
            " Encoder-1-MultiHeadSelfAtt  (None, 256, 768)             2362368   ['Embedding-Norm[0][0]']      \n",
            " ention (MultiHeadAttention                                                                       \n",
            " )                                                                                                \n",
            "                                                                                                  \n",
            " Encoder-1-MultiHeadSelfAtt  (None, 256, 768)             0         ['Encoder-1-MultiHeadSelfAtten\n",
            " ention-Dropout (Dropout)                                           tion[0][0]']                  \n",
            "                                                                                                  \n",
            " Encoder-1-MultiHeadSelfAtt  (None, 256, 768)             0         ['Embedding-Norm[0][0]',      \n",
            " ention-Add (Add)                                                    'Encoder-1-MultiHeadSelfAtten\n",
            "                                                                    tion-Dropout[0][0]']          \n",
            "                                                                                                  \n",
            " Encoder-1-MultiHeadSelfAtt  (None, 256, 768)             1536      ['Encoder-1-MultiHeadSelfAtten\n",
            " ention-Norm (LayerNormaliz                                         tion-Add[0][0]']              \n",
            " ation)                                                                                           \n",
            "                                                                                                  \n",
            " Encoder-1-FeedForward (Fee  (None, 256, 768)             4722432   ['Encoder-1-MultiHeadSelfAtten\n",
            " dForward)                                                          tion-Norm[0][0]']             \n",
            "                                                                                                  \n",
            " Encoder-1-FeedForward-Drop  (None, 256, 768)             0         ['Encoder-1-FeedForward[0][0]'\n",
            " out (Dropout)                                                      ]                             \n",
            "                                                                                                  \n",
            " Encoder-1-FeedForward-Add   (None, 256, 768)             0         ['Encoder-1-MultiHeadSelfAtten\n",
            " (Add)                                                              tion-Norm[0][0]',             \n",
            "                                                                     'Encoder-1-FeedForward-Dropou\n",
            "                                                                    t[0][0]']                     \n",
            "                                                                                                  \n",
            " Encoder-1-FeedForward-Norm  (None, 256, 768)             1536      ['Encoder-1-FeedForward-Add[0]\n",
            "  (LayerNormalization)                                              [0]']                         \n",
            "                                                                                                  \n",
            " Encoder-2-MultiHeadSelfAtt  (None, 256, 768)             2362368   ['Encoder-1-FeedForward-Norm[0\n",
            " ention (MultiHeadAttention                                         ][0]']                        \n",
            " )                                                                                                \n",
            "                                                                                                  \n",
            " Encoder-2-MultiHeadSelfAtt  (None, 256, 768)             0         ['Encoder-2-MultiHeadSelfAtten\n",
            " ention-Dropout (Dropout)                                           tion[0][0]']                  \n",
            "                                                                                                  \n",
            " Encoder-2-MultiHeadSelfAtt  (None, 256, 768)             0         ['Encoder-1-FeedForward-Norm[0\n",
            " ention-Add (Add)                                                   ][0]',                        \n",
            "                                                                     'Encoder-2-MultiHeadSelfAtten\n",
            "                                                                    tion-Dropout[0][0]']          \n",
            "                                                                                                  \n",
            " Encoder-2-MultiHeadSelfAtt  (None, 256, 768)             1536      ['Encoder-2-MultiHeadSelfAtten\n",
            " ention-Norm (LayerNormaliz                                         tion-Add[0][0]']              \n",
            " ation)                                                                                           \n",
            "                                                                                                  \n",
            " Encoder-2-FeedForward (Fee  (None, 256, 768)             4722432   ['Encoder-2-MultiHeadSelfAtten\n",
            " dForward)                                                          tion-Norm[0][0]']             \n",
            "                                                                                                  \n",
            " Encoder-2-FeedForward-Drop  (None, 256, 768)             0         ['Encoder-2-FeedForward[0][0]'\n",
            " out (Dropout)                                                      ]                             \n",
            "                                                                                                  \n",
            " Encoder-2-FeedForward-Add   (None, 256, 768)             0         ['Encoder-2-MultiHeadSelfAtten\n",
            " (Add)                                                              tion-Norm[0][0]',             \n",
            "                                                                     'Encoder-2-FeedForward-Dropou\n",
            "                                                                    t[0][0]']                     \n",
            "                                                                                                  \n",
            " Encoder-2-FeedForward-Norm  (None, 256, 768)             1536      ['Encoder-2-FeedForward-Add[0]\n",
            "  (LayerNormalization)                                              [0]']                         \n",
            "                                                                                                  \n",
            " Encoder-3-MultiHeadSelfAtt  (None, 256, 768)             2362368   ['Encoder-2-FeedForward-Norm[0\n",
            " ention (MultiHeadAttention                                         ][0]']                        \n",
            " )                                                                                                \n",
            "                                                                                                  \n",
            " Encoder-3-MultiHeadSelfAtt  (None, 256, 768)             0         ['Encoder-3-MultiHeadSelfAtten\n",
            " ention-Dropout (Dropout)                                           tion[0][0]']                  \n",
            "                                                                                                  \n",
            " Encoder-3-MultiHeadSelfAtt  (None, 256, 768)             0         ['Encoder-2-FeedForward-Norm[0\n",
            " ention-Add (Add)                                                   ][0]',                        \n",
            "                                                                     'Encoder-3-MultiHeadSelfAtten\n",
            "                                                                    tion-Dropout[0][0]']          \n",
            "                                                                                                  \n",
            " Encoder-3-MultiHeadSelfAtt  (None, 256, 768)             1536      ['Encoder-3-MultiHeadSelfAtten\n",
            " ention-Norm (LayerNormaliz                                         tion-Add[0][0]']              \n",
            " ation)                                                                                           \n",
            "                                                                                                  \n",
            " Encoder-3-FeedForward (Fee  (None, 256, 768)             4722432   ['Encoder-3-MultiHeadSelfAtten\n",
            " dForward)                                                          tion-Norm[0][0]']             \n",
            "                                                                                                  \n",
            " Encoder-3-FeedForward-Drop  (None, 256, 768)             0         ['Encoder-3-FeedForward[0][0]'\n",
            " out (Dropout)                                                      ]                             \n",
            "                                                                                                  \n",
            " Encoder-3-FeedForward-Add   (None, 256, 768)             0         ['Encoder-3-MultiHeadSelfAtten\n",
            " (Add)                                                              tion-Norm[0][0]',             \n",
            "                                                                     'Encoder-3-FeedForward-Dropou\n",
            "                                                                    t[0][0]']                     \n",
            "                                                                                                  \n",
            " Encoder-3-FeedForward-Norm  (None, 256, 768)             1536      ['Encoder-3-FeedForward-Add[0]\n",
            "  (LayerNormalization)                                              [0]']                         \n",
            "                                                                                                  \n",
            " Encoder-4-MultiHeadSelfAtt  (None, 256, 768)             2362368   ['Encoder-3-FeedForward-Norm[0\n",
            " ention (MultiHeadAttention                                         ][0]']                        \n",
            " )                                                                                                \n",
            "                                                                                                  \n",
            " Encoder-4-MultiHeadSelfAtt  (None, 256, 768)             0         ['Encoder-4-MultiHeadSelfAtten\n",
            " ention-Dropout (Dropout)                                           tion[0][0]']                  \n",
            "                                                                                                  \n",
            " Encoder-4-MultiHeadSelfAtt  (None, 256, 768)             0         ['Encoder-3-FeedForward-Norm[0\n",
            " ention-Add (Add)                                                   ][0]',                        \n",
            "                                                                     'Encoder-4-MultiHeadSelfAtten\n",
            "                                                                    tion-Dropout[0][0]']          \n",
            "                                                                                                  \n",
            " Encoder-4-MultiHeadSelfAtt  (None, 256, 768)             1536      ['Encoder-4-MultiHeadSelfAtten\n",
            " ention-Norm (LayerNormaliz                                         tion-Add[0][0]']              \n",
            " ation)                                                                                           \n",
            "                                                                                                  \n",
            " Encoder-4-FeedForward (Fee  (None, 256, 768)             4722432   ['Encoder-4-MultiHeadSelfAtten\n",
            " dForward)                                                          tion-Norm[0][0]']             \n",
            "                                                                                                  \n",
            " Encoder-4-FeedForward-Drop  (None, 256, 768)             0         ['Encoder-4-FeedForward[0][0]'\n",
            " out (Dropout)                                                      ]                             \n",
            "                                                                                                  \n",
            " Encoder-4-FeedForward-Add   (None, 256, 768)             0         ['Encoder-4-MultiHeadSelfAtten\n",
            " (Add)                                                              tion-Norm[0][0]',             \n",
            "                                                                     'Encoder-4-FeedForward-Dropou\n",
            "                                                                    t[0][0]']                     \n",
            "                                                                                                  \n",
            " Encoder-4-FeedForward-Norm  (None, 256, 768)             1536      ['Encoder-4-FeedForward-Add[0]\n",
            "  (LayerNormalization)                                              [0]']                         \n",
            "                                                                                                  \n",
            " Encoder-5-MultiHeadSelfAtt  (None, 256, 768)             2362368   ['Encoder-4-FeedForward-Norm[0\n",
            " ention (MultiHeadAttention                                         ][0]']                        \n",
            " )                                                                                                \n",
            "                                                                                                  \n",
            " Encoder-5-MultiHeadSelfAtt  (None, 256, 768)             0         ['Encoder-5-MultiHeadSelfAtten\n",
            " ention-Dropout (Dropout)                                           tion[0][0]']                  \n",
            "                                                                                                  \n",
            " Encoder-5-MultiHeadSelfAtt  (None, 256, 768)             0         ['Encoder-4-FeedForward-Norm[0\n",
            " ention-Add (Add)                                                   ][0]',                        \n",
            "                                                                     'Encoder-5-MultiHeadSelfAtten\n",
            "                                                                    tion-Dropout[0][0]']          \n",
            "                                                                                                  \n",
            " Encoder-5-MultiHeadSelfAtt  (None, 256, 768)             1536      ['Encoder-5-MultiHeadSelfAtten\n",
            " ention-Norm (LayerNormaliz                                         tion-Add[0][0]']              \n",
            " ation)                                                                                           \n",
            "                                                                                                  \n",
            " Encoder-5-FeedForward (Fee  (None, 256, 768)             4722432   ['Encoder-5-MultiHeadSelfAtten\n",
            " dForward)                                                          tion-Norm[0][0]']             \n",
            "                                                                                                  \n",
            " Encoder-5-FeedForward-Drop  (None, 256, 768)             0         ['Encoder-5-FeedForward[0][0]'\n",
            " out (Dropout)                                                      ]                             \n",
            "                                                                                                  \n",
            " Encoder-5-FeedForward-Add   (None, 256, 768)             0         ['Encoder-5-MultiHeadSelfAtten\n",
            " (Add)                                                              tion-Norm[0][0]',             \n",
            "                                                                     'Encoder-5-FeedForward-Dropou\n",
            "                                                                    t[0][0]']                     \n",
            "                                                                                                  \n",
            " Encoder-5-FeedForward-Norm  (None, 256, 768)             1536      ['Encoder-5-FeedForward-Add[0]\n",
            "  (LayerNormalization)                                              [0]']                         \n",
            "                                                                                                  \n",
            " Encoder-6-MultiHeadSelfAtt  (None, 256, 768)             2362368   ['Encoder-5-FeedForward-Norm[0\n",
            " ention (MultiHeadAttention                                         ][0]']                        \n",
            " )                                                                                                \n",
            "                                                                                                  \n",
            " Encoder-6-MultiHeadSelfAtt  (None, 256, 768)             0         ['Encoder-6-MultiHeadSelfAtten\n",
            " ention-Dropout (Dropout)                                           tion[0][0]']                  \n",
            "                                                                                                  \n",
            " Encoder-6-MultiHeadSelfAtt  (None, 256, 768)             0         ['Encoder-5-FeedForward-Norm[0\n",
            " ention-Add (Add)                                                   ][0]',                        \n",
            "                                                                     'Encoder-6-MultiHeadSelfAtten\n",
            "                                                                    tion-Dropout[0][0]']          \n",
            "                                                                                                  \n",
            " Encoder-6-MultiHeadSelfAtt  (None, 256, 768)             1536      ['Encoder-6-MultiHeadSelfAtten\n",
            " ention-Norm (LayerNormaliz                                         tion-Add[0][0]']              \n",
            " ation)                                                                                           \n",
            "                                                                                                  \n",
            " Encoder-6-FeedForward (Fee  (None, 256, 768)             4722432   ['Encoder-6-MultiHeadSelfAtten\n",
            " dForward)                                                          tion-Norm[0][0]']             \n",
            "                                                                                                  \n",
            " Encoder-6-FeedForward-Drop  (None, 256, 768)             0         ['Encoder-6-FeedForward[0][0]'\n",
            " out (Dropout)                                                      ]                             \n",
            "                                                                                                  \n",
            " Encoder-6-FeedForward-Add   (None, 256, 768)             0         ['Encoder-6-MultiHeadSelfAtten\n",
            " (Add)                                                              tion-Norm[0][0]',             \n",
            "                                                                     'Encoder-6-FeedForward-Dropou\n",
            "                                                                    t[0][0]']                     \n",
            "                                                                                                  \n",
            " Encoder-6-FeedForward-Norm  (None, 256, 768)             1536      ['Encoder-6-FeedForward-Add[0]\n",
            "  (LayerNormalization)                                              [0]']                         \n",
            "                                                                                                  \n",
            " Encoder-7-MultiHeadSelfAtt  (None, 256, 768)             2362368   ['Encoder-6-FeedForward-Norm[0\n",
            " ention (MultiHeadAttention                                         ][0]']                        \n",
            " )                                                                                                \n",
            "                                                                                                  \n",
            " Encoder-7-MultiHeadSelfAtt  (None, 256, 768)             0         ['Encoder-7-MultiHeadSelfAtten\n",
            " ention-Dropout (Dropout)                                           tion[0][0]']                  \n",
            "                                                                                                  \n",
            " Encoder-7-MultiHeadSelfAtt  (None, 256, 768)             0         ['Encoder-6-FeedForward-Norm[0\n",
            " ention-Add (Add)                                                   ][0]',                        \n",
            "                                                                     'Encoder-7-MultiHeadSelfAtten\n",
            "                                                                    tion-Dropout[0][0]']          \n",
            "                                                                                                  \n",
            " Encoder-7-MultiHeadSelfAtt  (None, 256, 768)             1536      ['Encoder-7-MultiHeadSelfAtten\n",
            " ention-Norm (LayerNormaliz                                         tion-Add[0][0]']              \n",
            " ation)                                                                                           \n",
            "                                                                                                  \n",
            " Encoder-7-FeedForward (Fee  (None, 256, 768)             4722432   ['Encoder-7-MultiHeadSelfAtten\n",
            " dForward)                                                          tion-Norm[0][0]']             \n",
            "                                                                                                  \n",
            " Encoder-7-FeedForward-Drop  (None, 256, 768)             0         ['Encoder-7-FeedForward[0][0]'\n",
            " out (Dropout)                                                      ]                             \n",
            "                                                                                                  \n",
            " Encoder-7-FeedForward-Add   (None, 256, 768)             0         ['Encoder-7-MultiHeadSelfAtten\n",
            " (Add)                                                              tion-Norm[0][0]',             \n",
            "                                                                     'Encoder-7-FeedForward-Dropou\n",
            "                                                                    t[0][0]']                     \n",
            "                                                                                                  \n",
            " Encoder-7-FeedForward-Norm  (None, 256, 768)             1536      ['Encoder-7-FeedForward-Add[0]\n",
            "  (LayerNormalization)                                              [0]']                         \n",
            "                                                                                                  \n",
            " Encoder-8-MultiHeadSelfAtt  (None, 256, 768)             2362368   ['Encoder-7-FeedForward-Norm[0\n",
            " ention (MultiHeadAttention                                         ][0]']                        \n",
            " )                                                                                                \n",
            "                                                                                                  \n",
            " Encoder-8-MultiHeadSelfAtt  (None, 256, 768)             0         ['Encoder-8-MultiHeadSelfAtten\n",
            " ention-Dropout (Dropout)                                           tion[0][0]']                  \n",
            "                                                                                                  \n",
            " Encoder-8-MultiHeadSelfAtt  (None, 256, 768)             0         ['Encoder-7-FeedForward-Norm[0\n",
            " ention-Add (Add)                                                   ][0]',                        \n",
            "                                                                     'Encoder-8-MultiHeadSelfAtten\n",
            "                                                                    tion-Dropout[0][0]']          \n",
            "                                                                                                  \n",
            " Encoder-8-MultiHeadSelfAtt  (None, 256, 768)             1536      ['Encoder-8-MultiHeadSelfAtten\n",
            " ention-Norm (LayerNormaliz                                         tion-Add[0][0]']              \n",
            " ation)                                                                                           \n",
            "                                                                                                  \n",
            " Encoder-8-FeedForward (Fee  (None, 256, 768)             4722432   ['Encoder-8-MultiHeadSelfAtten\n",
            " dForward)                                                          tion-Norm[0][0]']             \n",
            "                                                                                                  \n",
            " Encoder-8-FeedForward-Drop  (None, 256, 768)             0         ['Encoder-8-FeedForward[0][0]'\n",
            " out (Dropout)                                                      ]                             \n",
            "                                                                                                  \n",
            " Encoder-8-FeedForward-Add   (None, 256, 768)             0         ['Encoder-8-MultiHeadSelfAtten\n",
            " (Add)                                                              tion-Norm[0][0]',             \n",
            "                                                                     'Encoder-8-FeedForward-Dropou\n",
            "                                                                    t[0][0]']                     \n",
            "                                                                                                  \n",
            " Encoder-8-FeedForward-Norm  (None, 256, 768)             1536      ['Encoder-8-FeedForward-Add[0]\n",
            "  (LayerNormalization)                                              [0]']                         \n",
            "                                                                                                  \n",
            " Encoder-9-MultiHeadSelfAtt  (None, 256, 768)             2362368   ['Encoder-8-FeedForward-Norm[0\n",
            " ention (MultiHeadAttention                                         ][0]']                        \n",
            " )                                                                                                \n",
            "                                                                                                  \n",
            " Encoder-9-MultiHeadSelfAtt  (None, 256, 768)             0         ['Encoder-9-MultiHeadSelfAtten\n",
            " ention-Dropout (Dropout)                                           tion[0][0]']                  \n",
            "                                                                                                  \n",
            " Encoder-9-MultiHeadSelfAtt  (None, 256, 768)             0         ['Encoder-8-FeedForward-Norm[0\n",
            " ention-Add (Add)                                                   ][0]',                        \n",
            "                                                                     'Encoder-9-MultiHeadSelfAtten\n",
            "                                                                    tion-Dropout[0][0]']          \n",
            "                                                                                                  \n",
            " Encoder-9-MultiHeadSelfAtt  (None, 256, 768)             1536      ['Encoder-9-MultiHeadSelfAtten\n",
            " ention-Norm (LayerNormaliz                                         tion-Add[0][0]']              \n",
            " ation)                                                                                           \n",
            "                                                                                                  \n",
            " Encoder-9-FeedForward (Fee  (None, 256, 768)             4722432   ['Encoder-9-MultiHeadSelfAtten\n",
            " dForward)                                                          tion-Norm[0][0]']             \n",
            "                                                                                                  \n",
            " Encoder-9-FeedForward-Drop  (None, 256, 768)             0         ['Encoder-9-FeedForward[0][0]'\n",
            " out (Dropout)                                                      ]                             \n",
            "                                                                                                  \n",
            " Encoder-9-FeedForward-Add   (None, 256, 768)             0         ['Encoder-9-MultiHeadSelfAtten\n",
            " (Add)                                                              tion-Norm[0][0]',             \n",
            "                                                                     'Encoder-9-FeedForward-Dropou\n",
            "                                                                    t[0][0]']                     \n",
            "                                                                                                  \n",
            " Encoder-9-FeedForward-Norm  (None, 256, 768)             1536      ['Encoder-9-FeedForward-Add[0]\n",
            "  (LayerNormalization)                                              [0]']                         \n",
            "                                                                                                  \n",
            " Encoder-10-MultiHeadSelfAt  (None, 256, 768)             2362368   ['Encoder-9-FeedForward-Norm[0\n",
            " tention (MultiHeadAttentio                                         ][0]']                        \n",
            " n)                                                                                               \n",
            "                                                                                                  \n",
            " Encoder-10-MultiHeadSelfAt  (None, 256, 768)             0         ['Encoder-10-MultiHeadSelfAtte\n",
            " tention-Dropout (Dropout)                                          ntion[0][0]']                 \n",
            "                                                                                                  \n",
            " Encoder-10-MultiHeadSelfAt  (None, 256, 768)             0         ['Encoder-9-FeedForward-Norm[0\n",
            " tention-Add (Add)                                                  ][0]',                        \n",
            "                                                                     'Encoder-10-MultiHeadSelfAtte\n",
            "                                                                    ntion-Dropout[0][0]']         \n",
            "                                                                                                  \n",
            " Encoder-10-MultiHeadSelfAt  (None, 256, 768)             1536      ['Encoder-10-MultiHeadSelfAtte\n",
            " tention-Norm (LayerNormali                                         ntion-Add[0][0]']             \n",
            " zation)                                                                                          \n",
            "                                                                                                  \n",
            " Encoder-10-FeedForward (Fe  (None, 256, 768)             4722432   ['Encoder-10-MultiHeadSelfAtte\n",
            " edForward)                                                         ntion-Norm[0][0]']            \n",
            "                                                                                                  \n",
            " Encoder-10-FeedForward-Dro  (None, 256, 768)             0         ['Encoder-10-FeedForward[0][0]\n",
            " pout (Dropout)                                                     ']                            \n",
            "                                                                                                  \n",
            " Encoder-10-FeedForward-Add  (None, 256, 768)             0         ['Encoder-10-MultiHeadSelfAtte\n",
            "  (Add)                                                             ntion-Norm[0][0]',            \n",
            "                                                                     'Encoder-10-FeedForward-Dropo\n",
            "                                                                    ut[0][0]']                    \n",
            "                                                                                                  \n",
            " Encoder-10-FeedForward-Nor  (None, 256, 768)             1536      ['Encoder-10-FeedForward-Add[0\n",
            " m (LayerNormalization)                                             ][0]']                        \n",
            "                                                                                                  \n",
            " Encoder-11-MultiHeadSelfAt  (None, 256, 768)             2362368   ['Encoder-10-FeedForward-Norm[\n",
            " tention (MultiHeadAttentio                                         0][0]']                       \n",
            " n)                                                                                               \n",
            "                                                                                                  \n",
            " Encoder-11-MultiHeadSelfAt  (None, 256, 768)             0         ['Encoder-11-MultiHeadSelfAtte\n",
            " tention-Dropout (Dropout)                                          ntion[0][0]']                 \n",
            "                                                                                                  \n",
            " Encoder-11-MultiHeadSelfAt  (None, 256, 768)             0         ['Encoder-10-FeedForward-Norm[\n",
            " tention-Add (Add)                                                  0][0]',                       \n",
            "                                                                     'Encoder-11-MultiHeadSelfAtte\n",
            "                                                                    ntion-Dropout[0][0]']         \n",
            "                                                                                                  \n",
            " Encoder-11-MultiHeadSelfAt  (None, 256, 768)             1536      ['Encoder-11-MultiHeadSelfAtte\n",
            " tention-Norm (LayerNormali                                         ntion-Add[0][0]']             \n",
            " zation)                                                                                          \n",
            "                                                                                                  \n",
            " Encoder-11-FeedForward (Fe  (None, 256, 768)             4722432   ['Encoder-11-MultiHeadSelfAtte\n",
            " edForward)                                                         ntion-Norm[0][0]']            \n",
            "                                                                                                  \n",
            " Encoder-11-FeedForward-Dro  (None, 256, 768)             0         ['Encoder-11-FeedForward[0][0]\n",
            " pout (Dropout)                                                     ']                            \n",
            "                                                                                                  \n",
            " Encoder-11-FeedForward-Add  (None, 256, 768)             0         ['Encoder-11-MultiHeadSelfAtte\n",
            "  (Add)                                                             ntion-Norm[0][0]',            \n",
            "                                                                     'Encoder-11-FeedForward-Dropo\n",
            "                                                                    ut[0][0]']                    \n",
            "                                                                                                  \n",
            " Encoder-11-FeedForward-Nor  (None, 256, 768)             1536      ['Encoder-11-FeedForward-Add[0\n",
            " m (LayerNormalization)                                             ][0]']                        \n",
            "                                                                                                  \n",
            " Encoder-12-MultiHeadSelfAt  (None, 256, 768)             2362368   ['Encoder-11-FeedForward-Norm[\n",
            " tention (MultiHeadAttentio                                         0][0]']                       \n",
            " n)                                                                                               \n",
            "                                                                                                  \n",
            " Encoder-12-MultiHeadSelfAt  (None, 256, 768)             0         ['Encoder-12-MultiHeadSelfAtte\n",
            " tention-Dropout (Dropout)                                          ntion[0][0]']                 \n",
            "                                                                                                  \n",
            " Encoder-12-MultiHeadSelfAt  (None, 256, 768)             0         ['Encoder-11-FeedForward-Norm[\n",
            " tention-Add (Add)                                                  0][0]',                       \n",
            "                                                                     'Encoder-12-MultiHeadSelfAtte\n",
            "                                                                    ntion-Dropout[0][0]']         \n",
            "                                                                                                  \n",
            " Encoder-12-MultiHeadSelfAt  (None, 256, 768)             1536      ['Encoder-12-MultiHeadSelfAtte\n",
            " tention-Norm (LayerNormali                                         ntion-Add[0][0]']             \n",
            " zation)                                                                                          \n",
            "                                                                                                  \n",
            " Encoder-12-FeedForward (Fe  (None, 256, 768)             4722432   ['Encoder-12-MultiHeadSelfAtte\n",
            " edForward)                                                         ntion-Norm[0][0]']            \n",
            "                                                                                                  \n",
            " Encoder-12-FeedForward-Dro  (None, 256, 768)             0         ['Encoder-12-FeedForward[0][0]\n",
            " pout (Dropout)                                                     ']                            \n",
            "                                                                                                  \n",
            " Encoder-12-FeedForward-Add  (None, 256, 768)             0         ['Encoder-12-MultiHeadSelfAtte\n",
            "  (Add)                                                             ntion-Norm[0][0]',            \n",
            "                                                                     'Encoder-12-FeedForward-Dropo\n",
            "                                                                    ut[0][0]']                    \n",
            "                                                                                                  \n",
            " Encoder-12-FeedForward-Nor  (None, 256, 768)             1536      ['Encoder-12-FeedForward-Add[0\n",
            " m (LayerNormalization)                                             ][0]']                        \n",
            "                                                                                                  \n",
            " Extract (Extract)           (None, 768)                  0         ['Encoder-12-FeedForward-Norm[\n",
            "                                                                    0][0]']                       \n",
            "                                                                                                  \n",
            " NSP-Dense (Dense)           (None, 768)                  590592    ['Extract[0][0]']             \n",
            "                                                                                                  \n",
            " dense (Dense)               (None, 6)                    4614      ['NSP-Dense[0][0]']           \n",
            "                                                                                                  \n",
            "==================================================================================================\n",
            "Total params: 109290246 (416.91 MB)\n",
            "Trainable params: 109290246 (416.91 MB)\n",
            "Non-trainable params: 0 (0.00 Byte)\n",
            "__________________________________________________________________________________________________\n"
          ]
        }
      ],
      "source": [
        "# Prepare BERT input using ktrain's utility\n",
        "from ktrain import text\n",
        "(x_train, y_train), (x_val, y_val), preproc = ktext.texts_from_array(\n",
        "    x_train=tweets_train, y_train=labels_train,\n",
        "    x_test=tweets_val, y_test=labels_val,\n",
        "    class_names=class_names,\n",
        "    preprocess_mode='bert',\n",
        "    maxlen=256,  # This maxlen should match the sequence length expected by the LSTM\n",
        "    max_features=35000\n",
        ")\n",
        "# Load the BERT model pre-trained for classification with ktrain\n",
        "model = ktext.text_classifier('bert', train_data=(x_train, y_train), preproc=preproc)\n",
        "model.summary()\n"
      ]
    },
    {
      "cell_type": "code",
      "execution_count": 6,
      "metadata": {
        "id": "MJZbBvZTESAL"
      },
      "outputs": [
        {
          "name": "stdout",
          "output_type": "stream",
          "text": [
            "Model: \"model_2\"\n",
            "__________________________________________________________________________________________________\n",
            " Layer (type)                Output Shape                 Param #   Connected to                  \n",
            "==================================================================================================\n",
            " Input-Segment (InputLayer)  [(None, 256)]                0         []                            \n",
            "                                                                                                  \n",
            " Embedding-Segment (Embeddi  (None, 256, 768)             1536      ['Input-Segment[0][0]']       \n",
            " ng)                                                                                              \n",
            "                                                                                                  \n",
            " bidirectional (Bidirection  (None, 256, 512)             2099200   ['Embedding-Segment[0][0]']   \n",
            " al)                                                                                              \n",
            "                                                                                                  \n",
            " bidirectional_1 (Bidirecti  (None, 256, 512)             1574912   ['bidirectional[0][0]']       \n",
            " onal)                                                                                            \n",
            "                                                                                                  \n",
            " bidirectional_2 (Bidirecti  (None, 256, 512)             1182720   ['bidirectional_1[0][0]']     \n",
            " onal)                                                                                            \n",
            "                                                                                                  \n",
            " bidirectional_3 (Bidirecti  (None, 256, 512)             1574912   ['bidirectional_2[0][0]']     \n",
            " onal)                                                                                            \n",
            "                                                                                                  \n",
            " bidirectional_4 (Bidirecti  (None, 256, 512)             1574912   ['bidirectional_3[0][0]']     \n",
            " onal)                                                                                            \n",
            "                                                                                                  \n",
            " bidirectional_6 (Bidirecti  (None, 256, 512)             1574912   ['bidirectional_4[0][0]']     \n",
            " onal)                                                                                            \n",
            "                                                                                                  \n",
            " bidirectional_7 (Bidirecti  (None, 512)                  1574912   ['bidirectional_6[0][0]']     \n",
            " onal)                                                                                            \n",
            "                                                                                                  \n",
            " dropout (Dropout)           (None, 512)                  0         ['bidirectional_7[0][0]']     \n",
            "                                                                                                  \n",
            " Input-Token (InputLayer)    [(None, 256)]                0         []                            \n",
            "                                                                                                  \n",
            " dense_1 (Dense)             (None, 6)                    3078      ['dropout[0][0]']             \n",
            "                                                                                                  \n",
            "==================================================================================================\n",
            "Total params: 11161094 (42.58 MB)\n",
            "Trainable params: 11161094 (42.58 MB)\n",
            "Non-trainable params: 0 (0.00 Byte)\n",
            "__________________________________________________________________________________________________\n"
          ]
        }
      ],
      "source": [
        "#Increasing neurons per layer\n",
        "from tensorflow.keras.layers import Input, Dense, LSTM, Bidirectional, Dropout\n",
        "from tensorflow.keras.models import Model\n",
        "from tensorflow.keras.layers import GRU\n",
        "\n",
        "\n",
        "# Assuming 'bert_sequence_output' is from the last BERT layer\n",
        "bert_sequence_output = model.layers[3].output\n",
        "\n",
        "# Build stacked Bi-LSTM part\n",
        "bi_lstm_1 = Bidirectional(LSTM(256, return_sequences=True))(bert_sequence_output)\n",
        "bi_lstm_2 = Bidirectional(LSTM(256, return_sequences=True))(bi_lstm_1)\n",
        "gru_layer = Bidirectional(GRU(256, return_sequences=True))(bi_lstm_2)  # Add a GRU layer here\n",
        "bi_lstm_3 = Bidirectional(LSTM(256, return_sequences=True))(gru_layer)\n",
        "bi_lstm_4 = Bidirectional(LSTM(256, return_sequences=True))(bi_lstm_3)\n",
        "gru_layer = Bidirectional(GRU(256, return_sequences=True))(bi_lstm_4)\n",
        "bi_lstm_5 = Bidirectional(LSTM(256, return_sequences=True))(bi_lstm_4)\n",
        "bi_lstm_6 = Bidirectional(LSTM(256))(bi_lstm_5)    # The last LSTM layer should not return sequences\n",
        "\n",
        "# Adding a dropout layer for regularization\n",
        "dropout = Dropout(0.5)(bi_lstm_6)\n",
        "\n",
        "# Output layer\n",
        "output_layer = Dense(6, activation='softmax')(dropout)\n",
        "\n",
        "# Construct the final model\n",
        "hybrid_model = Model(inputs=model.input, outputs=output_layer)\n",
        "hybrid_model.compile(optimizer='RMSProp', loss='categorical_crossentropy', metrics=['accuracy'])\n",
        "\n",
        "# Display the model summary\n",
        "hybrid_model.summary()\n"
      ]
    },
    {
      "cell_type": "code",
      "execution_count": 7,
      "metadata": {
        "colab": {
          "base_uri": "https://localhost:8080/"
        },
        "id": "v78ESgAvfYJD",
        "outputId": "54937e49-4c8d-44dd-af24-93940367f04a"
      },
      "outputs": [
        {
          "name": "stdout",
          "output_type": "stream",
          "text": [
            "(16000, 6)\n",
            "(2000, 6)\n"
          ]
        }
      ],
      "source": [
        "print(y_train.shape)\n",
        "print(y_val.shape)"
      ]
    },
    {
      "cell_type": "code",
      "execution_count": 7,
      "metadata": {
        "id": "bw5ygInUESlt"
      },
      "outputs": [
        {
          "name": "stdout",
          "output_type": "stream",
          "text": [
            "Epoch 1/5\n",
            "250/250 [==============================] - 9517s 38s/step - loss: 1.6185 - accuracy: 0.3133 - val_loss: 1.5970 - val_accuracy: 0.3520\n",
            "Epoch 2/5\n",
            "250/250 [==============================] - 9141s 37s/step - loss: 1.5851 - accuracy: 0.3282 - val_loss: 1.5912 - val_accuracy: 0.3520\n",
            "Epoch 3/5\n",
            "210/250 [========================>.....] - ETA: 22:18 - loss: 1.5834 - accuracy: 0.3304"
          ]
        }
      ],
      "source": [
        "early_stopping_callback = tf.keras.callbacks.EarlyStopping(\n",
        "    monitor='val_accuracy',\n",
        "    patience=12,\n",
        "    restore_best_weights=True\n",
        ")\n",
        "\n",
        "\n",
        "history = hybrid_model.fit(\n",
        "    x_train, y_train,\n",
        "    validation_data=(x_val, y_val),\n",
        "    epochs=5,\n",
        "    batch_size=64,\n",
        "    callbacks=[early_stopping_callback]\n",
        ")"
      ]
    },
    {
      "cell_type": "code",
      "execution_count": 15,
      "metadata": {
        "id": "dykK37-K3lMc"
      },
      "outputs": [],
      "source": [
        "from sklearn.metrics import confusion_matrix, classification_report\n",
        "import matplotlib.pyplot as plt\n"
      ]
    },
    {
      "cell_type": "code",
      "execution_count": 16,
      "metadata": {
        "id": "_RJqsQp4AECv"
      },
      "outputs": [
        {
          "name": "stdout",
          "output_type": "stream",
          "text": [
            "63/63 [==============================] - 90s 1s/step\n"
          ]
        }
      ],
      "source": [
        "# Predict the probabilities for each class\n",
        "y_pred_probs = hybrid_model.predict(x_val)\n",
        "# Convert probabilities to class predictions\n",
        "y_pred = np.argmax(y_pred_probs, axis=1)\n",
        "y_true = np.argmax(y_val, axis=1)\n"
      ]
    },
    {
      "cell_type": "code",
      "execution_count": 19,
      "metadata": {
        "id": "_8P37tE7AUPt"
      },
      "outputs": [
        {
          "name": "stdout",
          "output_type": "stream",
          "text": [
            "Classification Report:\n",
            "               precision    recall  f1-score   support\n",
            "\n",
            "     sadness       0.00      0.00      0.00       550\n",
            "         joy       0.35      1.00      0.52       704\n",
            "        love       0.00      0.00      0.00       178\n",
            "       anger       0.00      0.00      0.00       275\n",
            "        fear       0.00      0.00      0.00       212\n",
            "    surprise       0.00      0.00      0.00        81\n",
            "\n",
            "    accuracy                           0.35      2000\n",
            "   macro avg       0.06      0.17      0.09      2000\n",
            "weighted avg       0.12      0.35      0.18      2000\n",
            "\n"
          ]
        },
        {
          "name": "stderr",
          "output_type": "stream",
          "text": [
            "/opt/homebrew/lib/python3.11/site-packages/sklearn/metrics/_classification.py:1509: UndefinedMetricWarning: Precision is ill-defined and being set to 0.0 in labels with no predicted samples. Use `zero_division` parameter to control this behavior.\n",
            "  _warn_prf(average, modifier, f\"{metric.capitalize()} is\", len(result))\n",
            "/opt/homebrew/lib/python3.11/site-packages/sklearn/metrics/_classification.py:1509: UndefinedMetricWarning: Precision is ill-defined and being set to 0.0 in labels with no predicted samples. Use `zero_division` parameter to control this behavior.\n",
            "  _warn_prf(average, modifier, f\"{metric.capitalize()} is\", len(result))\n",
            "/opt/homebrew/lib/python3.11/site-packages/sklearn/metrics/_classification.py:1509: UndefinedMetricWarning: Precision is ill-defined and being set to 0.0 in labels with no predicted samples. Use `zero_division` parameter to control this behavior.\n",
            "  _warn_prf(average, modifier, f\"{metric.capitalize()} is\", len(result))\n"
          ]
        }
      ],
      "source": [
        "# Generate a classification report\n",
        "report = classification_report(y_true, y_pred, target_names=class_names)\n",
        "print(\"Classification Report:\\n\", report)\n"
      ]
    },
    {
      "cell_type": "code",
      "execution_count": null,
      "metadata": {
        "id": "2-W23inPAWdn"
      },
      "outputs": [],
      "source": [
        "# Overall accuracy\n",
        "accuracy = np.mean(y_pred == y_true)\n",
        "print(\"Overall accuracy:\", accuracy)\n",
        "\n",
        "# Alternatively, you can use the accuracy_score function from sklearn\n",
        "from sklearn.metrics import accuracy_score\n",
        "accuracy = accuracy_score(y_true, y_pred)\n",
        "print(\"Overall accuracy from sklearn:\", accuracy)\n"
      ]
    },
    {
      "cell_type": "code",
      "execution_count": null,
      "metadata": {
        "id": "0qlfGs70AX9_"
      },
      "outputs": [],
      "source": [
        "from sklearn.metrics import f1_score, precision_score, recall_score\n",
        "\n",
        "# Calculate F1 score\n",
        "f1 = f1_score(y_true, y_pred, average='weighted')  # 'weighted' accounts for label imbalance\n",
        "print(\"F1 Score:\", f1)\n",
        "\n",
        "# Precision and Recall\n",
        "precision = precision_score(y_true, y_pred, average='weighted')\n",
        "recall = recall_score(y_true, y_pred, average='weighted')\n",
        "print(\"Precision:\", precision)\n",
        "print(\"Recall:\", recall)\n"
      ]
    },
    {
      "cell_type": "code",
      "execution_count": 18,
      "metadata": {
        "id": "nQ4bFW1OAZtK"
      },
      "outputs": [
        {
          "data": {
            "image/png": "[encoded data removed]",
            "text/plain": [
              "<Figure size 1600x600 with 2 Axes>"
            ]
          },
          "metadata": {},
          "output_type": "display_data"
        }
      ],
      "source": [
        "def show_history(h):\n",
        "    epochs_trained = len(h.history['loss'])\n",
        "    plt.figure(figsize=(16, 6))\n",
        "\n",
        "    plt.subplot(1, 2, 1)\n",
        "    plt.plot(range(0, epochs_trained), h.history.get('accuracy'), label='Training')\n",
        "    plt.plot(range(0, epochs_trained), h.history.get('val_accuracy'), label='Validation')\n",
        "    plt.ylim([0., 1.])\n",
        "    plt.xlabel('Epochs')\n",
        "    plt.ylabel('Accuracy')\n",
        "    plt.legend()\n",
        "\n",
        "    plt.subplot(1, 2, 2)\n",
        "    plt.plot(range(0, epochs_trained), h.history.get('loss'), label='Training')\n",
        "    plt.plot(range(0, epochs_trained), h.history.get('val_loss'), label='Validation')\n",
        "    plt.xlabel('Epochs')\n",
        "    plt.ylabel('Loss')\n",
        "    plt.legend()\n",
        "    plt.show()\n",
        "\n",
        "def show_confusion_matrix(y_true, y_pred, classes):\n",
        "    cm = confusion_matrix(y_true, y_pred, normalize='true')\n",
        "\n",
        "    plt.figure(figsize=(8, 8))\n",
        "    sp = plt.subplot(1, 1, 1)\n",
        "    ctx = sp.matshow(cm)\n",
        "    plt.xticks(list(range(0, len(classes))), labels=classes)\n",
        "    plt.yticks(list(range(0, len(classes))), labels=classes)\n",
        "    plt.colorbar(ctx)\n",
        "    plt.show()\n",
        "\n",
        "\n",
        "# Show training history\n",
        "show_history(history)\n",
        "\n",
        "# Show confusion matrix\n"
      ]
    }
  ],
  "metadata": {
    "colab": {
      "provenance": []
    },
    "kernelspec": {
      "display_name": "Python 3",
      "name": "python3"
    },
    "language_info": {
      "codemirror_mode": {
        "name": "ipython",
        "version": 3
      },
      "file_extension": ".py",
      "mimetype": "text/x-python",
      "name": "python",
      "nbconvert_exporter": "python",
      "pygments_lexer": "ipython3",
      "version": "3.8.9"
    }
  },
  "nbformat": 4,
  "nbformat_minor": 0
}
